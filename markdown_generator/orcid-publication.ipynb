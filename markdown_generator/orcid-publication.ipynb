{
 "cells": [
  {
   "cell_type": "code",
   "execution_count": 2,
   "metadata": {},
   "outputs": [],
   "source": [
    "# ---\n",
    "# jupyter:\n",
    "#   jupytext:\n",
    "#     formats: py:light\n",
    "#     text_representation:\n",
    "#       extension: .py\n",
    "#       format_name: light\n",
    "#       format_version: '1.5'\n",
    "#       jupytext_version: 1.14.1\n",
    "#   kernelspec:\n",
    "#     display_name: Python 3 (ipykernel)\n",
    "#     language: python\n",
    "#     name: python3\n",
    "# ---\n",
    "\n",
    "# +\n",
    "import pandas as pd\n",
    "import requests\n",
    "from IPython.display import Markdown, JSON\n",
    "from pathlib import Path\n",
    "from rich import progress"
   ]
  },
  {
   "cell_type": "code",
   "execution_count": 5,
   "metadata": {},
   "outputs": [
    {
     "name": "stdout",
     "output_type": "stream",
     "text": [
      "Retrieving ORCID entries from API...\n"
     ]
    }
   ],
   "source": [
    "\n",
    "# My ORCID\n",
    "orcid_id = \"0000-0002-7311-862X\"\n",
    "ORCID_RECORD_API = \"https://pub.orcid.org/v3.0/\"\n",
    "\n",
    "# Download all of my ORCID records\n",
    "print(\"Retrieving ORCID entries from API...\")\n",
    "response = requests.get(\n",
    "    url=requests.utils.requote_uri(ORCID_RECORD_API + orcid_id),\n",
    "    headers={\"Accept\": \"application/json\"},\n",
    ")\n",
    "response.raise_for_status()\n",
    "orcid_record = response.json()"
   ]
  },
  {
   "cell_type": "code",
   "execution_count": 7,
   "metadata": {},
   "outputs": [],
   "source": [
    "\n",
    "# +\n",
    "# Just to visualize in a notebook if need be\n",
    "# JSON(orcid_record)\n",
    "\n",
    "# +\n",
    "\n",
    "###\n",
    "# Resolve my DOIs from ORCID as references\n",
    "# Shamelessly copied from:\n",
    "# https://gist.github.com/brews/8d3b3ede15d120a86a6bd6fc43859c5e\n",
    "import requests\n",
    "import json"
   ]
  },
  {
   "cell_type": "code",
   "execution_count": 8,
   "metadata": {},
   "outputs": [],
   "source": [
    "def fetchmeta(doi, fmt=\"reference\", **kwargs):\n",
    "    \"\"\"Fetch metadata for a given DOI.\n",
    "\n",
    "    Parameters\n",
    "    ----------\n",
    "    doi : str\n",
    "    fmt : str, optional\n",
    "        Desired metadata format. Can be 'dict' or 'bibtex'.\n",
    "        Default is 'dict'.\n",
    "    **kwargs :\n",
    "        Additional keyword arguments are passed to `json.loads()` if `fmt`\n",
    "        is 'dict' and you're a big JSON nerd.\n",
    "\n",
    "    Returns\n",
    "    -------\n",
    "    out : str or dict or None\n",
    "        `None` is returned if the server gives unhappy response. Usually\n",
    "        this means the DOI is bad.\n",
    "\n",
    "    Examples\n",
    "    --------\n",
    "    >>> fetchmeta('10.1016/j.dendro.2018.02.005')\n",
    "    >>> fetchmeta('10.1016/j.dendro.2018.02.005', 'bibtex')\n",
    "\n",
    "    References\n",
    "    ----------\n",
    "    https://www.doi.org/hb.html\n",
    "    \"\"\"\n",
    "    # Parse args and setup the server response we want.\n",
    "    accept_type = \"application/\"\n",
    "    if fmt == \"dict\":\n",
    "        accept_type += \"citeproc+json\"\n",
    "    elif fmt == \"bibtex\":\n",
    "        accept_type += \"x-bibtex\"\n",
    "    elif fmt == \"reference\":\n",
    "        accept_type = \"text/x-bibliography; style=apa\"\n",
    "    else:\n",
    "        raise ValueError(f\"Unrecognized `fmt`: {fmt}\")\n",
    "\n",
    "    # Request data from server.\n",
    "    url = \"https://dx.doi.org/\" + str(doi)\n",
    "    header = {\"accept\": accept_type}\n",
    "    r = requests.get(url, headers=header)\n",
    "\n",
    "    # Format metadata if server response is good.\n",
    "    out = None\n",
    "    if r.status_code == 200:\n",
    "        if fmt == \"dict\":\n",
    "            out = json.loads(r.text, **kwargs)\n",
    "        else:\n",
    "            out = r.text\n",
    "    return out"
   ]
  },
  {
   "cell_type": "code",
   "execution_count": 10,
   "metadata": {},
   "outputs": [
    {
     "data": {
      "application/vnd.jupyter.widget-view+json": {
       "model_id": "94c33b153b7f40e381f72dc2041079ca",
       "version_major": 2,
       "version_minor": 0
      },
      "text/plain": [
       "Output()"
      ]
     },
     "metadata": {},
     "output_type": "display_data"
    },
    {
     "data": {
      "text/html": [
       "<pre style=\"white-space:pre;overflow-x:auto;line-height:normal;font-family:Menlo,'DejaVu Sans Mono',consolas,'Courier New',monospace\"></pre>\n"
      ],
      "text/plain": []
     },
     "metadata": {},
     "output_type": "display_data"
    },
    {
     "data": {
      "text/html": [
       "<pre style=\"white-space:pre;overflow-x:auto;line-height:normal;font-family:Menlo,'DejaVu Sans Mono',consolas,'Courier New',monospace\">\n",
       "</pre>\n"
      ],
      "text/plain": [
       "\n"
      ]
     },
     "metadata": {},
     "output_type": "display_data"
    }
   ],
   "source": [
    "# Extract metadata for each entry\n",
    "df = []\n",
    "for iwork in progress.track(\n",
    "    orcid_record[\"activities-summary\"][\"works\"][\"group\"], \"Fetching reference data...\"\n",
    "):\n",
    "    isummary = iwork[\"work-summary\"][0]\n",
    "\n",
    "    # Extract the DOI\n",
    "    for ii in isummary[\"external-ids\"][\"external-id\"]:\n",
    "        if ii[\"external-id-type\"] == \"doi\":\n",
    "            doi = ii[\"external-id-value\"]\n",
    "            break\n",
    "\n",
    "    meta = fetchmeta(doi, fmt=\"dict\")\n",
    "    doi_url = meta[\"URL\"]\n",
    "    title = meta[\"title\"]\n",
    "    references_count = meta[\"references-count\"]\n",
    "    year = meta[\"issued\"][\"date-parts\"][0][0]\n",
    "    url = meta[\"URL\"]\n",
    "\n",
    "    # Create authors list with links to their ORCIDs\n",
    "    authors = meta[\"author\"]\n",
    "    autht = []\n",
    "    for author in authors:\n",
    "        name = f\"{author['family']}, {author['given'][0]}.\"\n",
    "        if \"holdgraf\" in author[\"family\"].lower():\n",
    "            name = f\"**{name}**\"\n",
    "        if \"ORCID\" in author:\n",
    "            autht.append(f\"[{name}]({author['ORCID']})\")\n",
    "        else:\n",
    "            autht.append(name)\n",
    "    autht = \", \".join(autht)\n",
    "\n",
    "    journal = meta[\"publisher\"]\n",
    "\n",
    "    url_doi = url.split(\"//\", 1)[-1]\n",
    "    reference = f\"{autht} ({year}). **{title}**. {journal}. [{url_doi}]({url})\"\n",
    "    df.append({\"year\": year, \"reference\": reference})\n",
    "df = pd.DataFrame(df)\n",
    "\n",
    "# Convert into a markdown string\n",
    "md = []\n",
    "for year, items in df.groupby(\"year\", sort=False):\n",
    "    md.append(f\"## {year}\")\n",
    "    for _, item in items.iterrows():\n",
    "        md.append(item[\"reference\"])\n",
    "        md.append(\"\")\n",
    "    md.append(\"\")\n",
    "mds = \"\\n\".join(md)\n"
   ]
  },
  {
   "cell_type": "code",
   "execution_count": 11,
   "metadata": {},
   "outputs": [
    {
     "data": {
      "text/markdown": [
       "## 2023\n",
       "[Erden, C.](http://orcid.org/0000-0002-7311-862X) (2023). **Genetic algorithm-based hyperparameter optimization of deep learning models for PM2.5 time-series prediction**. Springer Science and Business Media LLC. [dx.doi.org/10.1007/S13762-023-04763-6](http://dx.doi.org/10.1007/S13762-023-04763-6)\n",
       "\n"
      ],
      "text/plain": [
       "<IPython.core.display.Markdown object>"
      ]
     },
     "execution_count": 11,
     "metadata": {},
     "output_type": "execute_result"
    }
   ],
   "source": [
    "Markdown(mds)."
   ]
  },
  {
   "cell_type": "code",
   "execution_count": 14,
   "metadata": {},
   "outputs": [
    {
     "data": {
      "text/plain": [
       "'## 2023\\n[Erden, C.](http://orcid.org/0000-0002-7311-862X) (2023). **Genetic algorithm-based hyperparameter optimization of deep learning models for PM2.5 time-series prediction**. Springer Science and Business Media LLC. [dx.doi.org/10.1007/S13762-023-04763-6](http://dx.doi.org/10.1007/S13762-023-04763-6)\\n\\n'"
      ]
     },
     "execution_count": 14,
     "metadata": {},
     "output_type": "execute_result"
    }
   ],
   "source": [
    "mds"
   ]
  },
  {
   "cell_type": "code",
   "execution_count": 26,
   "metadata": {},
   "outputs": [],
   "source": [
    "with open('publications.txt', 'w') as f:\n",
    "    f.write(mds)"
   ]
  },
  {
   "cell_type": "code",
   "execution_count": 13,
   "metadata": {},
   "outputs": [
    {
     "ename": "AttributeError",
     "evalue": "'str' object has no attribute 'write_text'",
     "output_type": "error",
     "traceback": [
      "\u001b[1;31m---------------------------------------------------------------------------\u001b[0m",
      "\u001b[1;31mAttributeError\u001b[0m                            Traceback (most recent call last)",
      "\u001b[1;32m~\\AppData\\Local\\Temp/ipykernel_9108/4140655950.py\u001b[0m in \u001b[0;36m<module>\u001b[1;34m\u001b[0m\n\u001b[0;32m      6\u001b[0m \u001b[1;31m# This will only work if this is run as a script\u001b[0m\u001b[1;33m\u001b[0m\u001b[1;33m\u001b[0m\u001b[0m\n\u001b[0;32m      7\u001b[0m \u001b[0mpath_out\u001b[0m \u001b[1;33m=\u001b[0m \u001b[1;34m\"publications.txt\"\u001b[0m\u001b[1;33m\u001b[0m\u001b[1;33m\u001b[0m\u001b[0m\n\u001b[1;32m----> 8\u001b[1;33m \u001b[0mpath_out\u001b[0m\u001b[1;33m.\u001b[0m\u001b[0mwrite_text\u001b[0m\u001b[1;33m(\u001b[0m\u001b[0mmds\u001b[0m\u001b[1;33m)\u001b[0m\u001b[1;33m\u001b[0m\u001b[1;33m\u001b[0m\u001b[0m\n\u001b[0m\u001b[0;32m      9\u001b[0m \u001b[0mprint\u001b[0m\u001b[1;33m(\u001b[0m\u001b[1;34mf\"Finished updating ORCID entries at: {path_out}\"\u001b[0m\u001b[1;33m)\u001b[0m\u001b[1;33m\u001b[0m\u001b[1;33m\u001b[0m\u001b[0m\n",
      "\u001b[1;31mAttributeError\u001b[0m: 'str' object has no attribute 'write_text'"
     ]
    }
   ],
   "source": [
    "# +\n",
    "# Uncomment to preview in a notebook\n",
    "# Markdown(mds)\n",
    "# -\n",
    "\n",
    "# This will only work if this is run as a script\n",
    "path_out = \"publications.txt\"\n",
    "path_out.write_text(mds)\n",
    "print(f\"Finished updating ORCID entries at: {path_out}\")"
   ]
  },
  {
   "cell_type": "code",
   "execution_count": 17,
   "metadata": {},
   "outputs": [
    {
     "ename": "NameError",
     "evalue": "name '__file__' is not defined",
     "output_type": "error",
     "traceback": [
      "\u001b[1;31m---------------------------------------------------------------------------\u001b[0m",
      "\u001b[1;31mNameError\u001b[0m                                 Traceback (most recent call last)",
      "\u001b[1;32m~\\AppData\\Local\\Temp/ipykernel_9108/3779479463.py\u001b[0m in \u001b[0;36m<module>\u001b[1;34m\u001b[0m\n\u001b[0;32m      1\u001b[0m \u001b[1;32mimport\u001b[0m \u001b[0mos\u001b[0m\u001b[1;33m\u001b[0m\u001b[1;33m\u001b[0m\u001b[0m\n\u001b[1;32m----> 2\u001b[1;33m \u001b[0mos\u001b[0m\u001b[1;33m.\u001b[0m\u001b[0mpath\u001b[0m\u001b[1;33m.\u001b[0m\u001b[0mjoin\u001b[0m\u001b[1;33m(\u001b[0m\u001b[0mos\u001b[0m\u001b[1;33m.\u001b[0m\u001b[0mpath\u001b[0m\u001b[1;33m.\u001b[0m\u001b[0mdirname\u001b[0m\u001b[1;33m(\u001b[0m\u001b[0m__file__\u001b[0m\u001b[1;33m)\u001b[0m\u001b[1;33m)\u001b[0m\u001b[1;33m\u001b[0m\u001b[1;33m\u001b[0m\u001b[0m\n\u001b[0m\u001b[0;32m      3\u001b[0m \u001b[0mPath\u001b[0m\u001b[1;33m(\u001b[0m\u001b[0m__file__\u001b[0m\u001b[1;33m)\u001b[0m\u001b[1;33m\u001b[0m\u001b[1;33m\u001b[0m\u001b[0m\n",
      "\u001b[1;31mNameError\u001b[0m: name '__file__' is not defined"
     ]
    }
   ],
   "source": [
    "import os\n",
    "os.path.join(os.path.dirname(__file__))\n",
    "Path(__file__)"
   ]
  },
  {
   "cell_type": "code",
   "execution_count": null,
   "metadata": {},
   "outputs": [],
   "source": []
  }
 ],
 "metadata": {
  "kernelspec": {
   "display_name": "base",
   "language": "python",
   "name": "python3"
  },
  "language_info": {
   "codemirror_mode": {
    "name": "ipython",
    "version": 3
   },
   "file_extension": ".py",
   "mimetype": "text/x-python",
   "name": "python",
   "nbconvert_exporter": "python",
   "pygments_lexer": "ipython3",
   "version": "3.9.7"
  },
  "orig_nbformat": 4,
  "vscode": {
   "interpreter": {
    "hash": "b09ec625f77bf4fd762565a912b97636504ad6ec901eb2d0f4cf5a7de23e1ee5"
   }
  }
 },
 "nbformat": 4,
 "nbformat_minor": 2
}
